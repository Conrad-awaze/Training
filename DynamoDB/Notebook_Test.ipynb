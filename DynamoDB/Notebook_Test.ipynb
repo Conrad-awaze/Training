{
 "cells": [
  {
   "cell_type": "code",
   "execution_count": null,
   "metadata": {
    "dotnet_interactive": {
     "language": "pwsh"
    },
    "vscode": {
     "languageId": "dotnet-interactive.pwsh"
    }
   },
   "outputs": [
    {
     "name": "stdout",
     "output_type": "stream",
     "text": [
      "\n",
      "\u001b[32;1mModuleType Version    PreRelease Name                                ExportedCommands\u001b[0m\n",
      "\u001b[32;1m---------- -------    ---------- ----                                ----------------\u001b[0m\n",
      "Manifest   7.0.0.0               Microsoft.PowerShell.Management     {Add-Content, Clear-Content, …\n",
      "\n"
     ]
    }
   ],
   "source": [
    "Get-Module"
   ]
  },
  {
   "cell_type": "code",
   "execution_count": null,
   "metadata": {
    "dotnet_interactive": {
     "language": "pwsh"
    },
    "vscode": {
     "languageId": "dotnet-interactive.pwsh"
    }
   },
   "outputs": [
    {
     "name": "stdout",
     "output_type": "stream",
     "text": [
      "\n",
      "\u001b[32;1mVersion              Name                                Repository           Description\u001b[0m\n",
      "\u001b[32;1m-------              ----                                ----------           -----------\u001b[0m\n",
      "4.1.161              AWS.Tools.DynamoDBv2                PSGallery            The DynamoDBv2 modul…\n",
      "\n"
     ]
    }
   ],
   "source": [
    "Find-Module -Name \"AWS.Tools.Dy*\""
   ]
  },
  {
   "cell_type": "code",
   "execution_count": null,
   "metadata": {
    "dotnet_interactive": {
     "language": "pwsh"
    },
    "vscode": {
     "languageId": "dotnet-interactive.pwsh"
    }
   },
   "outputs": [
    {
     "data": {
      "text/plain": []
     },
     "metadata": {},
     "output_type": "display_data"
    }
   ],
   "source": [
    "Install-Module AWS.Tools.DynamoDBv2 -Force"
   ]
  },
  {
   "cell_type": "code",
   "execution_count": null,
   "metadata": {
    "dotnet_interactive": {
     "language": "pwsh"
    },
    "vscode": {
     "languageId": "dotnet-interactive.pwsh"
    }
   },
   "outputs": [
    {
     "name": "stdout",
     "output_type": "stream",
     "text": [
      "\n",
      "\u001b[32;1mCommandType     Name                                               Version    Source\u001b[0m\n",
      "\u001b[32;1m-----------     ----                                               -------    ------\u001b[0m\n",
      "Alias           Get-DDBBackupsList                                 4.1.161    AWS.Tools.DynamoDBv2\n",
      "Alias           Get-DDBTables                                      4.1.161    AWS.Tools.DynamoDBv2\n",
      "Alias           Get-GlobalTablesList                               4.1.161    AWS.Tools.DynamoDBv2\n",
      "Cmdlet          Add-DDBIndexSchema                                 4.1.161    AWS.Tools.DynamoDBv2\n",
      "Cmdlet          Add-DDBKeySchema                                   4.1.161    AWS.Tools.DynamoDBv2\n",
      "Cmdlet          Add-DDBResourceTag                                 4.1.161    AWS.Tools.DynamoDBv2\n",
      "Cmdlet          Disable-DDBKinesisStreamingDestination             4.1.161    AWS.Tools.DynamoDBv2\n",
      "Cmdlet          Enable-DDBKinesisStreamingDestination              4.1.161    AWS.Tools.DynamoDBv2\n",
      "Cmdlet          Export-DDBTableToPointInTime                       4.1.161    AWS.Tools.DynamoDBv2\n",
      "Cmdlet          Get-DDBBackup                                      4.1.161    AWS.Tools.DynamoDBv2\n",
      "Cmdlet          Get-DDBBackupList                                  4.1.161    AWS.Tools.DynamoDBv2\n",
      "Cmdlet          Get-DDBContinuousBackup                            4.1.161    AWS.Tools.DynamoDBv2\n",
      "Cmdlet          Get-DDBContributorInsight                          4.1.161    AWS.Tools.DynamoDBv2\n",
      "Cmdlet          Get-DDBContributorInsightList                      4.1.161    AWS.Tools.DynamoDBv2\n",
      "Cmdlet          Get-DDBEndpoint                                    4.1.161    AWS.Tools.DynamoDBv2\n",
      "Cmdlet          Get-DDBExport                                      4.1.161    AWS.Tools.DynamoDBv2\n",
      "Cmdlet          Get-DDBExportList                                  4.1.161    AWS.Tools.DynamoDBv2\n",
      "Cmdlet          Get-DDBGlobalTable                                 4.1.161    AWS.Tools.DynamoDBv2\n",
      "Cmdlet          Get-DDBGlobalTableList                             4.1.161    AWS.Tools.DynamoDBv2\n",
      "Cmdlet          Get-DDBGlobalTableSetting                          4.1.161    AWS.Tools.DynamoDBv2\n",
      "Cmdlet          Get-DDBImport                                      4.1.161    AWS.Tools.DynamoDBv2\n",
      "Cmdlet          Get-DDBImportList                                  4.1.161    AWS.Tools.DynamoDBv2\n",
      "Cmdlet          Get-DDBItemTransactionally                         4.1.161    AWS.Tools.DynamoDBv2\n",
      "Cmdlet          Get-DDBKinesisStreamingDestination                 4.1.161    AWS.Tools.DynamoDBv2\n",
      "Cmdlet          Get-DDBProvisionLimit                              4.1.161    AWS.Tools.DynamoDBv2\n",
      "Cmdlet          Get-DDBResourceTag                                 4.1.161    AWS.Tools.DynamoDBv2\n",
      "Cmdlet          Get-DDBStream                                      4.1.161    AWS.Tools.DynamoDBv2\n",
      "Cmdlet          Get-DDBStreamList                                  4.1.161    AWS.Tools.DynamoDBv2\n",
      "Cmdlet          Get-DDBTable                                       4.1.161    AWS.Tools.DynamoDBv2\n",
      "Cmdlet          Get-DDBTableList                                   4.1.161    AWS.Tools.DynamoDBv2\n",
      "Cmdlet          Get-DDBTableReplicaAutoScaling                     4.1.161    AWS.Tools.DynamoDBv2\n",
      "Cmdlet          Get-DDBTimeToLive                                  4.1.161    AWS.Tools.DynamoDBv2\n",
      "Cmdlet          Import-DDBTable                                    4.1.161    AWS.Tools.DynamoDBv2\n",
      "Cmdlet          Invoke-DDBDDBBatchExecuteStatement                 4.1.161    AWS.Tools.DynamoDBv2\n",
      "Cmdlet          Invoke-DDBDDBExecuteStatement                      4.1.161    AWS.Tools.DynamoDBv2\n",
      "Cmdlet          Invoke-DDBDDBExecuteTransaction                    4.1.161    AWS.Tools.DynamoDBv2\n",
      "Cmdlet          New-DDBBackup                                      4.1.161    AWS.Tools.DynamoDBv2\n",
      "Cmdlet          New-DDBGlobalTable                                 4.1.161    AWS.Tools.DynamoDBv2\n",
      "Cmdlet          New-DDBTable                                       4.1.161    AWS.Tools.DynamoDBv2\n",
      "Cmdlet          New-DDBTableSchema                                 4.1.161    AWS.Tools.DynamoDBv2\n",
      "Cmdlet          Remove-DDBBackup                                   4.1.161    AWS.Tools.DynamoDBv2\n",
      "Cmdlet          Remove-DDBResourceTag                              4.1.161    AWS.Tools.DynamoDBv2\n",
      "Cmdlet          Remove-DDBTable                                    4.1.161    AWS.Tools.DynamoDBv2\n",
      "Cmdlet          Restore-DDBTableFromBackup                         4.1.161    AWS.Tools.DynamoDBv2\n",
      "Cmdlet          Restore-DDBTableToPointInTime                      4.1.161    AWS.Tools.DynamoDBv2\n",
      "Cmdlet          Update-DDBContinuousBackup                         4.1.161    AWS.Tools.DynamoDBv2\n",
      "Cmdlet          Update-DDBContributorInsight                       4.1.161    AWS.Tools.DynamoDBv2\n",
      "Cmdlet          Update-DDBGlobalTable                              4.1.161    AWS.Tools.DynamoDBv2\n",
      "Cmdlet          Update-DDBGlobalTableSetting                       4.1.161    AWS.Tools.DynamoDBv2\n",
      "Cmdlet          Update-DDBTable                                    4.1.161    AWS.Tools.DynamoDBv2\n",
      "Cmdlet          Update-DDBTableReplicaAutoScaling                  4.1.161    AWS.Tools.DynamoDBv2\n",
      "Cmdlet          Update-DDBTimeToLive                               4.1.161    AWS.Tools.DynamoDBv2\n",
      "Cmdlet          Write-DDBItemTransactionally                       4.1.161    AWS.Tools.DynamoDBv2\n",
      "\n"
     ]
    }
   ],
   "source": [
    "Get-Command -Module AWS.Tools.DynamoDBv2"
   ]
  }
 ],
 "metadata": {
  "kernelspec": {
   "display_name": ".NET (PowerShell)",
   "language": "PowerShell",
   "name": ".net-pwsh"
  },
  "language_info": {
   "name": "PowerShell"
  }
 },
 "nbformat": 4,
 "nbformat_minor": 2
}
